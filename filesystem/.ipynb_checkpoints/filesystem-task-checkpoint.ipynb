{
 "cells": [
  {
   "cell_type": "markdown",
   "metadata": {},
   "source": [
    "# Домашнее задание к лекции Работа с файловой системой и модули\n",
    "**Задание №1.** Переведите содержимое файла purchase_log.txt в словарь purchases вида: #{‘1840e0b9d4’: ‘Продукты’, …}\n",
    "\n",
    "**Задание №2.** / Для каждого user_id в файле visit_log.csv определите третий столбец\n",
    "с категорией покупки (если покупка была, сам файл visit_log.csv изменять не надо).\n",
    "Запишите в файл funnel.csv визиты из файла visit_log.csv,\n",
    "в которых были покупки с указанием категории.\n",
    "Учтите условия на данные:\n",
    "содержимое purchase_log.txt помещается в оперативную память компьютера\n",
    "содержимое visit_log.csv - нет; используйте только построчную обработку этого файла"
   ]
  },
  {
   "cell_type": "code",
   "execution_count": 13,
   "metadata": {},
   "outputs": [],
   "source": [
    "import json"
   ]
  },
  {
   "cell_type": "code",
   "execution_count": 14,
   "metadata": {},
   "outputs": [],
   "source": [
    "def head_line_by_line(f):\n",
    "    for i, line in enumerate(f):\n",
    "        print(i, line.strip())\n",
    "\n",
    "        if i > 4:\n",
    "            break"
   ]
  },
  {
   "cell_type": "code",
   "execution_count": 15,
   "metadata": {},
   "outputs": [],
   "source": [
    "def head_json(filename):\n",
    "    i = 0\n",
    "    for line in f:\n",
    "        line = line.strip()\n",
    "\n",
    "        dict_ = json.loads(line)\n",
    "        print(dict_, type(dict_))\n",
    "\n",
    "        i += 1\n",
    "        if i > 4:\n",
    "            break"
   ]
  },
  {
   "cell_type": "code",
   "execution_count": 16,
   "metadata": {},
   "outputs": [],
   "source": [
    "def head_dict(dict_):\n",
    "    for x in list(dict_)[0:4]:\n",
    "        print(\"{'key': '%s', 'value': '%s'}\" % (x,  dict_[x]))"
   ]
  },
  {
   "cell_type": "code",
   "execution_count": 17,
   "metadata": {},
   "outputs": [
    {
     "name": "stdout",
     "output_type": "stream",
     "text": [
      "0 {\"user_id\": \"user_id\", \"category\": \"category\"}\n",
      "1 {\"user_id\": \"1840e0b9d4\", \"category\": \"Продукты\"}\n",
      "2 {\"user_id\": \"4e4f90fcfb\", \"category\": \"Электроника\"}\n",
      "3 {\"user_id\": \"afea8d72fc\", \"category\": \"Электроника\"}\n",
      "4 {\"user_id\": \"373a6055fe\", \"category\": \"Бытовая техника\"}\n",
      "5 {\"user_id\": \"9b2ab046f3\", \"category\": \"Электроника\"}\n"
     ]
    }
   ],
   "source": [
    "with open('./downloads/purchase_log.txt') as f:\n",
    "    head_line_by_line(f)"
   ]
  },
  {
   "cell_type": "code",
   "execution_count": 18,
   "metadata": {},
   "outputs": [
    {
     "name": "stdout",
     "output_type": "stream",
     "text": [
      "{'user_id': 'user_id', 'category': 'category'} <class 'dict'>\n",
      "{'user_id': '1840e0b9d4', 'category': 'Продукты'} <class 'dict'>\n",
      "{'user_id': '4e4f90fcfb', 'category': 'Электроника'} <class 'dict'>\n",
      "{'user_id': 'afea8d72fc', 'category': 'Электроника'} <class 'dict'>\n",
      "{'user_id': '373a6055fe', 'category': 'Бытовая техника'} <class 'dict'>\n"
     ]
    }
   ],
   "source": [
    "with open('./downloads/purchase_log.txt') as f:\n",
    "    head_json(f)"
   ]
  },
  {
   "cell_type": "code",
   "execution_count": 19,
   "metadata": {},
   "outputs": [
    {
     "name": "stdout",
     "output_type": "stream",
     "text": [
      "0 user_id,source\n",
      "1 6450655ae8,other\n",
      "2 b4ea53e670,other\n",
      "3 0e37347152,other\n",
      "4 96064ae9e0,other\n",
      "5 e1bd168161,context\n"
     ]
    }
   ],
   "source": [
    "with open('./downloads/visit_log.csv') as f:\n",
    "    head_line_by_line(f)"
   ]
  },
  {
   "cell_type": "code",
   "execution_count": 20,
   "metadata": {},
   "outputs": [],
   "source": [
    "def read_json_as_dict(f):\n",
    "    purchases = {}\n",
    "    \n",
    "    for line in f:\n",
    "        dict_ = json.loads(line)\n",
    "        purchases[ dict_['user_id'] ] = dict_['category']\n",
    "    \n",
    "    return purchases"
   ]
  },
  {
   "cell_type": "code",
   "execution_count": 21,
   "metadata": {},
   "outputs": [
    {
     "name": "stdout",
     "output_type": "stream",
     "text": [
      "{'key': '1840e0b9d4', 'value': 'Продукты'}\n",
      "{'key': '4e4f90fcfb', 'value': 'Электроника'}\n",
      "{'key': 'afea8d72fc', 'value': 'Электроника'}\n",
      "{'key': '373a6055fe', 'value': 'Бытовая техника'}\n"
     ]
    }
   ],
   "source": [
    "purchases = {}\n",
    "\n",
    "with open('./downloads/purchase_log.txt', 'r') as f:\n",
    "    next(f)\n",
    "    purchases = read_json_as_dict(f)\n",
    "    \n",
    "head_dict(purchases)"
   ]
  },
  {
   "cell_type": "code",
   "execution_count": 22,
   "metadata": {},
   "outputs": [],
   "source": [
    "def lookup_purchase_category(user_id):\n",
    "    if user_id in purchases:\n",
    "        return purchases[user_id]\n",
    "    \n",
    "    return None\n",
    "\n",
    "with open('./downloads/funnel.csv', 'w') as funnel_f: # создаем файл для записи\n",
    "    with open('./downloads/visit_log.csv') as visit_log_f:\n",
    "        next(visit_log_f)\n",
    "        i = 0\n",
    "        for line in visit_log_f:\n",
    "            user_id = line.strip().split(',')[0]\n",
    "            category = lookup_purchase_category(user_id)\n",
    "\n",
    "            if category:\n",
    "                funnel_f.write('%s, %s\\n' % (user_id, category))\n",
    "                \n",
    "funnel_f.close()\n",
    "visit_log_f.close()"
   ]
  },
  {
   "cell_type": "code",
   "execution_count": 23,
   "metadata": {},
   "outputs": [
    {
     "name": "stdout",
     "output_type": "stream",
     "text": [
      "0 1840e0b9d4, Продукты\n",
      "1 4e4f90fcfb, Электроника\n",
      "2 afea8d72fc, Электроника\n",
      "3 2824221f38, Продукты\n",
      "4 373a6055fe, Бытовая техника\n",
      "5 9b2ab046f3, Электроника\n"
     ]
    }
   ],
   "source": [
    "with open('./downloads/funnel.csv', 'r') as funnel_f:\n",
    "    head_line_by_line(funnel_f)"
   ]
  }
 ],
 "metadata": {
  "kernelspec": {
   "display_name": "Python 3",
   "language": "python",
   "name": "python3"
  },
  "language_info": {
   "codemirror_mode": {
    "name": "ipython",
    "version": 3
   },
   "file_extension": ".py",
   "mimetype": "text/x-python",
   "name": "python",
   "nbconvert_exporter": "python",
   "pygments_lexer": "ipython3",
   "version": "3.7.6"
  }
 },
 "nbformat": 4,
 "nbformat_minor": 4
}
